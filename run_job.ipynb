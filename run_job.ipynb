{
 "cells": [
  {
   "cell_type": "code",
   "execution_count": 1,
   "metadata": {},
   "outputs": [
    {
     "name": "stdout",
     "output_type": "stream",
     "text": [
      "{'id': '7eJ03LAvszYNRasmgBxMPqrEM6r1', 'createdAt': '2023-01-04T16:35:26.928Z', 'lastLogin': '2023-03-15T21:25:16.622Z', 'displayName': 'n.castelli', 'email': 'n.castelli@bytenite.com', 'phoneNumber': '', 'photoUrl': '', 'providerId': 'firebase', 'emailVerified': True, 'customClaims': {}}\n"
     ]
    }
   ],
   "source": [
    "import requests\n",
    "import os\n",
    "from configparser import ConfigParser\n",
    "# Adding Comment for Subtask 2\n",
    "\n",
    "#Open https://app.bytenite.com/profile in your browser and copy the access token in the variable below\n",
    "parser = ConfigParser()\n",
    "_ = parser.read('api.cfg')\n",
    "\n",
    "# Get user info\n",
    "resp = requests.get('http://api.bytenite.com/v1/auth/user', headers={'Authorization': parser.get('api', 'access_token')})\n",
    "user = resp.json()['user']\n",
    "print(user)"
   ]
  },
  {
   "cell_type": "code",
   "execution_count": 2,
   "metadata": {},
   "outputs": [
    {
     "name": "stdout",
     "output_type": "stream",
     "text": [
      "{'id': '7728ba38-f0a0-4319-ae28-07734448a334', 'templateId': 'video-transcoding@v0.2', 'name': 'Example job', 'config': {'minChunkSize': '0', 'maxChunkSize': '0', 'replicationFactor': 0, 'partitioningSettings': {}}, 'priority': 'EXECUTION_PRIORITY_UNDEFINED', 'startAt': None, 'deadline': None, 'submittedAt': None, 'startedAt': None, 'completedAt': None, 'regions': None, 'state': 'JOB_STATE_NEW', 'dataSource': None, 'params': None, 'dataDestination': None, 'duration': None, 'deletedAt': None, 'createdAt': '2023-03-15T21:34:04.314444Z', 'paymentAmount': '0', 'numUnitsEstimation': '0', 'numChunks': '0'}\n"
     ]
    }
   ],
   "source": [
    "# Create a new video transcoding job\n",
    "create_job_body={\"name\": \"Example job\", \"templateId\": \"video-transcoding@v0.2\"}\n",
    "\n",
    "job_data = requests.post('http://api.bytenite.com/v1/customer/jobs', json=create_job_body, headers={'Authorization': parser.get('api', 'access_token')}).json()['job']\n",
    "job_id = job_data['id']\n",
    "print(job_data)"
   ]
  },
  {
   "cell_type": "code",
   "execution_count": 3,
   "metadata": {},
   "outputs": [
    {
     "name": "stdout",
     "output_type": "stream",
     "text": [
      "{'dataSourceDescriptor': 'url', 'params': {'@type': 'type.googleapis.com/bytenite.data_source.HttpDataSource', 'name': '', 'url': 'https://storage.googleapis.com/video-test-public/input/tos.mp4', 'username': '', 'password': ''}}\n",
      "{'dataSourceDescriptor': 'bucket', 'params': {}}\n"
     ]
    }
   ],
   "source": [
    "# Set a data source and a data destination\n",
    "data_source_body={\n",
    "    \"dataSource\": {\n",
    "        \"dataSourceDescriptor\":\"url\",\n",
    "        \"params\":{\"@type\":\"type.googleapis.com/bytenite.data_source.HttpDataSource\",\"name\":\"\",\"url\":\"https://storage.googleapis.com/video-test-public/input/tos.mp4\",\"password\":\"\",\"username\":\"\"}\n",
    "    },\n",
    "    \"dataDestination\": {\n",
    "        \"dataSourceDescriptor\":\"bucket\",\n",
    "        \"params\":{}\n",
    "    }\n",
    "}\n",
    "\n",
    "job_data = requests.post(f'https://api.bytenite.com/v1/customer/jobs/datasource/{job_id}', json=data_source_body, headers={'Authorization': parser.get('api', 'access_token')}).json()['job']\n",
    "job_id = job_data['id']\n",
    "print(job_data['dataSource'])\n",
    "print(job_data['dataDestination'])\n"
   ]
  },
  {
   "cell_type": "code",
   "execution_count": 4,
   "metadata": {},
   "outputs": [
    {
     "name": "stdout",
     "output_type": "stream",
     "text": [
      "{'id': '7728ba38-f0a0-4319-ae28-07734448a334', 'templateId': 'video-transcoding@v0.2', 'name': 'Example job', 'config': {'minChunkSize': '0', 'maxChunkSize': '0', 'replicationFactor': 0, 'partitioningSettings': {}}, 'priority': 'EXECUTION_PRIORITY_UNDEFINED', 'startAt': None, 'deadline': None, 'submittedAt': None, 'startedAt': None, 'completedAt': None, 'regions': None, 'state': 'JOB_STATE_NEW', 'dataSource': {'dataSourceDescriptor': 'url', 'params': {'@type': 'type.googleapis.com/bytenite.data_source.HttpDataSource', 'name': '', 'url': 'https://storage.googleapis.com/video-test-public/input/tos.mp4', 'username': '', 'password': ''}}, 'params': {'schema': '', 'data': {'output_code_template': '', 'output_template': '{{.job_name}}_{{.output_params.Aspect.Resolution.Height}}', 'outputs': [{'output_params': {'aspect': {'cropping': {'bottom': 0, 'left': 0, 'right': 0, 'top': 0}, 'orientation': {'flip': '', 'rotation': ''}, 'padding': {'fill_color': '#000000', 'final_aspect_ratio': ''}, 'resolution': {'aspect_ratio': '', 'avoid_upscaling': False, 'height': '720p'}}, 'audio': {'audio_bitrate': '320k', 'audio_channel': '2.0', 'audio_codec': 'AAC', 'audio_sample_rate': '48khz'}, 'video': {'bitrate': {'avg_bitrate': '3000k', 'buffer_size': '8000k', 'max_bitrate': '8000k', 'min_bitrate': '700k', 'rate_control_mode': 'variable_bitrate'}, 'codec': 'libx264', 'codec_params': {'level': '', 'preset': 'slow', 'profile': '', 'tune': 'film'}, 'frame_rate': {'fps': '', 'up_mode': 'avoid'}}}, 'output_type': 'mp4'}, {'output_params': {'aspect': {'cropping': {'bottom': 0, 'left': 0, 'right': 0, 'top': 0}, 'orientation': {'flip': '', 'rotation': ''}, 'padding': {'fill_color': '#000000', 'final_aspect_ratio': ''}, 'resolution': {'aspect_ratio': '', 'avoid_upscaling': False, 'height': '480p'}}, 'audio': {'audio_bitrate': '320k', 'audio_channel': '2.0', 'audio_codec': 'AAC', 'audio_sample_rate': '48khz'}, 'video': {'bitrate': {'avg_bitrate': '800k', 'buffer_size': '2000k', 'max_bitrate': '2000k', 'min_bitrate': '400k', 'rate_control_mode': 'variable_bitrate'}, 'codec': 'libvpx-vp9', 'codec_params': {'cpu_used': 1}, 'frame_rate': {'fps': '', 'up_mode': 'avoid'}}}, 'output_type': 'mp4'}]}, 'preset': 'unpackaged'}, 'dataDestination': {'dataSourceDescriptor': 'bucket', 'params': {}}, 'duration': None, 'deletedAt': None, 'createdAt': '2023-03-15T21:34:04.314444Z', 'paymentAmount': '0', 'numUnitsEstimation': '0', 'numChunks': '0'}\n"
     ]
    }
   ],
   "source": [
    "# Set video encoding parameters\n",
    "job_params_body={\n",
    "    \"data\": {\n",
    "      \"output_code_template\": \"\",\n",
    "      \"output_template\": \"{{.job_name}}_{{.output_params.Aspect.Resolution.Height}}\",\n",
    "      \"outputs\": [\n",
    "        {\n",
    "          \"output_params\": {\n",
    "            \"aspect\": {\n",
    "              \"cropping\": {\n",
    "                \"bottom\": 0,\n",
    "                \"left\": 0,\n",
    "                \"right\": 0,\n",
    "                \"top\": 0\n",
    "              },\n",
    "              \"orientation\": {\n",
    "                \"flip\": \"\",\n",
    "                \"rotation\": \"\"\n",
    "              },\n",
    "              \"padding\": {\n",
    "                \"fill_color\": \"#000000\",\n",
    "                \"final_aspect_ratio\": \"\"\n",
    "              },\n",
    "              \"resolution\": {\n",
    "                \"aspect_ratio\": \"\",\n",
    "                \"avoid_upscaling\": False,\n",
    "                \"height\": \"720p\"\n",
    "              }\n",
    "            },\n",
    "            \"audio\": {\n",
    "              \"audio_bitrate\": \"320k\",\n",
    "              \"audio_channel\": \"2.0\",\n",
    "              \"audio_codec\": \"AAC\",\n",
    "              \"audio_sample_rate\": \"48khz\"\n",
    "            },\n",
    "            \"video\": {\n",
    "              \"bitrate\": {\n",
    "                \"avg_bitrate\": \"3000k\",\n",
    "                \"buffer_size\": \"8000k\",\n",
    "                \"max_bitrate\": \"8000k\",\n",
    "                \"min_bitrate\": \"700k\",\n",
    "                \"rate_control_mode\": \"variable_bitrate\"\n",
    "              },\n",
    "              \"codec\": \"libx264\",\n",
    "              \"codec_params\": {\n",
    "                \"level\": \"\",\n",
    "                \"preset\": \"slow\",\n",
    "                \"profile\": \"\",\n",
    "                \"tune\": \"film\"\n",
    "              },\n",
    "              \"frame_rate\": {\n",
    "                \"fps\": \"\",\n",
    "                \"up_mode\": \"avoid\"\n",
    "              }\n",
    "            }\n",
    "          },\n",
    "          \"output_type\": \"mp4\"\n",
    "        },\n",
    "        {\n",
    "          \"output_params\": {\n",
    "            \"aspect\": {\n",
    "              \"cropping\": {\n",
    "                \"bottom\": 0,\n",
    "                \"left\": 0,\n",
    "                \"right\": 0,\n",
    "                \"top\": 0\n",
    "              },\n",
    "              \"orientation\": {\n",
    "                \"flip\": \"\",\n",
    "                \"rotation\": \"\"\n",
    "              },\n",
    "              \"padding\": {\n",
    "                \"fill_color\": \"#000000\",\n",
    "                \"final_aspect_ratio\": \"\"\n",
    "              },\n",
    "              \"resolution\": {\n",
    "                \"aspect_ratio\": \"\",\n",
    "                \"avoid_upscaling\": False,\n",
    "                \"height\": \"480p\"\n",
    "              }\n",
    "            },\n",
    "            \"audio\": {\n",
    "              \"audio_bitrate\": \"320k\",\n",
    "              \"audio_channel\": \"2.0\",\n",
    "              \"audio_codec\": \"AAC\",\n",
    "              \"audio_sample_rate\": \"48khz\"\n",
    "            },\n",
    "            \"video\": {\n",
    "              \"bitrate\": {\n",
    "                \"avg_bitrate\": \"800k\",\n",
    "                \"buffer_size\": \"2000k\",\n",
    "                \"max_bitrate\": \"2000k\",\n",
    "                \"min_bitrate\": \"400k\",\n",
    "                \"rate_control_mode\": \"variable_bitrate\"\n",
    "              },\n",
    "              \"codec\": \"libvpx-vp9\",\n",
    "              \"codec_params\": {\n",
    "                \"cpu_used\": 1\n",
    "              },\n",
    "              \"frame_rate\": {\n",
    "                \"fps\": \"\",\n",
    "                \"up_mode\": \"avoid\"\n",
    "              }\n",
    "            }\n",
    "          },\n",
    "          \"output_type\": \"mp4\"\n",
    "        }\n",
    "      ]\n",
    "    },\n",
    "    \"preset\": \"unpackaged\"\n",
    "}\n",
    "\n",
    "job_data = requests.post(f'https://api.bytenite.com/v1/customer/jobs/params/{job_id}', json=job_params_body, headers={'Authorization': parser.get('api', 'access_token')}).json()['job']\n",
    "job_id = job_data['id']\n",
    "print(job_data)"
   ]
  },
  {
   "cell_type": "code",
   "execution_count": 5,
   "metadata": {},
   "outputs": [
    {
     "name": "stdout",
     "output_type": "stream",
     "text": [
      "Cost estimation: 124 ByteChips = 0.62$\n"
     ]
    }
   ],
   "source": [
    "# Get time and cost estimation\n",
    "#\n",
    "estimation_data = requests.get(f'https://api.bytenite.com/v1/customer/jobs/estimation/{job_id}', headers={'Authorization': parser.get('api', 'access_token')}).json()\n",
    "total_estimation = estimation_data['estimation']['totalEstimation']\n",
    "print(f'Cost estimation: {total_estimation} ByteChips = {(int(total_estimation)/200):.02f}$')"
   ]
  },
  {
   "cell_type": "code",
   "execution_count": 6,
   "metadata": {},
   "outputs": [
    {
     "name": "stdout",
     "output_type": "stream",
     "text": [
      "{'ok': True, 'requestId': '', 'message': '', 'error': None}\n",
      "Job 7728ba38-f0a0-4319-ae28-07734448a334 started\n"
     ]
    }
   ],
   "source": [
    "# Run the job\n",
    "run_resp = requests.post(f'https://api.bytenite.com/v1/customer/jobs/run/{job_id}', json={}, headers={'Authorization': parser.get('api', 'access_token')}).json()\n",
    "print(run_resp)\n",
    "print(f'Job {job_id} started')"
   ]
  },
  {
   "cell_type": "code",
   "execution_count": null,
   "metadata": {},
   "outputs": [],
   "source": []
  }
 ],
 "metadata": {
  "kernelspec": {
   "display_name": "Python 3 (ipykernel)",
   "language": "python",
   "name": "python3"
  },
  "language_info": {
   "codemirror_mode": {
    "name": "ipython",
    "version": 3
   },
   "file_extension": ".py",
   "mimetype": "text/x-python",
   "name": "python",
   "nbconvert_exporter": "python",
   "pygments_lexer": "ipython3",
   "version": "3.7.12"
  }
 },
 "nbformat": 4,
 "nbformat_minor": 1
}
