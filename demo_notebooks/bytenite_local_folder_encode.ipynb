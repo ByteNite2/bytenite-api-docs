{
 "cells": [
  {
   "cell_type": "markdown",
   "metadata": {
    "id": "riRA0b7VNVpl"
   },
   "source": [
    "# ByteNite Guide: Local Folder Batch Upload\n",
    "Batch encoding - Local upload feature\n",
    "\n",
    "---\n",
    "The aim of this notebook is to **batch encode all the video contents in a folder** located on this computer using ByteNite Encoding API.\n",
    "\n",
    "_Note: make sure you have enough ByteChips in your wallet: https://app.bytenite.com/wallet (In this demo, every input minute costs ~20 ByteChips)._\n"
   ]
  },
  {
   "cell_type": "markdown",
   "metadata": {},
   "source": [
    "<h1 style=\"color:blue\">Setup (edit with your info)</h1>"
   ]
  },
  {
   "cell_type": "markdown",
   "metadata": {},
   "source": [
    "## Your API Key ↓\n",
    "Get it at https://app.bytenite.com/profile"
   ]
  },
  {
   "cell_type": "code",
   "execution_count": 7,
   "metadata": {},
   "outputs": [],
   "source": [
    "# >> Paste here your API key (Go to app.bytenite.com/profile)\n",
    "access_token = 'BYTENITE_ACCESS_TOKEN'"
   ]
  },
  {
   "cell_type": "markdown",
   "metadata": {},
   "source": [
    "## Your local video folder ↓"
   ]
  },
  {
   "cell_type": "code",
   "execution_count": 8,
   "metadata": {},
   "outputs": [],
   "source": [
    "# >> Please specify the location of the folder containing the videos to be transcoded\n",
    "my_dir = \"YOUR_FOLDER_PATH\""
   ]
  },
  {
   "cell_type": "markdown",
   "metadata": {},
   "source": [
    "<h1 style=\"color:orange\">Additional setup (edit if you need different encoding options)</h1>\n",
    "The default encoding parameters for this notebook are:\n",
    "\n",
    "- H.265 540p @600k\n",
    "- H.265 1080p @4.5M\n",
    "\n",
    "You can configure your parameters from the \"New Job\" wizard on app.bytenite.com, and then copy-paste the document by clicking on \"Switch to JSON\" on the top right.\n",
    "\n",
    "_Note: \"true\" / \"false\" values must be changed to Python's \"True\" / \"False\" (capital)_"
   ]
  },
  {
   "cell_type": "code",
   "execution_count": 9,
   "metadata": {},
   "outputs": [],
   "source": [
    "## Job parameters dictionary (JSON)\n",
    "job_params_body={\n",
    "\"data\":{\"output_code_template\": \"\",\n",
    "        \"output_template\": \"{{.job_name}}_{{.output_params.Aspect.Resolution.Height}}\",\n",
    "        \"outputs\":[{\"output_params\":{\"aspect\":{\"cropping\":{\"bottom\":0,\"left\":0,\"right\":0,\"top\":0},\"orientation\":{\"flip\":\"\",\"rotation\":\"\"},\"padding\":{\"fill_color\":\"#000000\",\"final_aspect_ratio\":\"\"},\"resolution\":{\"aspect_ratio\":\"\",\"avoid_upscaling\":True,\"height\":\"540p\"}},\"audio\":{\"audio_codec\":\"AAC\",\"audio_channel\":\"2.0\",\"audio_sample_rate\":\"48khz\",\"audio_bitrate\":\"192k\"},\"video\":{\"bitrate\":{\"rate_control_mode\":\"constant_bitrate\",\"target_bitrate\":\"600k\"},\"codec_params\":{\"preset\":\"medium\",\"profile\":\"\",\"tune\":\"\"},\"frame_rate\":{\"fps\":\"\",\"up_mode\":\"avoid\"},\"codec\":\"libx265\"}},\"output_type\":\"mp4\"},\n",
    "                    {\"output_params\":{\"aspect\":{\"cropping\":{\"bottom\":0,\"left\":0,\"right\":0,\"top\":0},\"orientation\":{\"flip\":\"\",\"rotation\":\"\"},\"padding\":{\"fill_color\":\"#000000\",\"final_aspect_ratio\":\"\"},\"resolution\":{\"aspect_ratio\":\"\",\"avoid_upscaling\":True,\"height\":\"1080p\"}},\"audio\":{\"audio_codec\":\"AAC\",\"audio_channel\":\"2.0\",\"audio_sample_rate\":\"48khz\",\"audio_bitrate\":\"192k\"},\"video\":{\"bitrate\":{\"rate_control_mode\":\"constant_bitrate\",\"target_bitrate\":\"4500k\"},\"codec_params\":{\"preset\":\"medium\",\"profile\":\"\",\"tune\":\"\"},\"frame_rate\":{\"fps\":\"\",\"up_mode\":\"avoid\"},\"codec\":\"libx265\"}},\"output_type\":\"mp4\"}\n",
    "                   ]},\"preset\":\"unpackaged\"\n",
    "}"
   ]
  },
  {
   "cell_type": "markdown",
   "metadata": {},
   "source": [
    "\n",
    "\n",
    "-------\n",
    "\n",
    "\n",
    "\n",
    "<h1 style=\"color:red\">Execution (do not alter)</h1>"
   ]
  },
  {
   "cell_type": "code",
   "execution_count": 10,
   "metadata": {
    "id": "qb4aS4ILarK3"
   },
   "outputs": [],
   "source": [
    "# Imports\n",
    "import random\n",
    "import string\n",
    "import requests\n",
    "import os\n",
    "import time"
   ]
  },
  {
   "cell_type": "markdown",
   "metadata": {},
   "source": [
    "<h2 style=\"color:red\">Check your input files</h2>"
   ]
  },
  {
   "cell_type": "code",
   "execution_count": 11,
   "metadata": {
    "colab": {
     "base_uri": "https://localhost:8080/"
    },
    "id": "1bNiP_Qg2MSr",
    "outputId": "d8dadc02-b2fe-436a-ff7b-ea90d759cad2"
   },
   "outputs": [
    {
     "name": "stdout",
     "output_type": "stream",
     "text": [
      "Video files in '/Users/fabio/transcoding/test/':\n",
      "['A001.mp4', 'A003.mp4', 'A002.mp4']\n"
     ]
    }
   ],
   "source": [
    "# Get all the filenames of videos in the folder\n",
    "def is_video_file(filename):\n",
    "  video_file_extensions = ('.264', '.3g2', '.3gp', '.3gp2', '.3gpp', '.3gpp2', '.3mm', '.3p2', '.60d', '.787', '.89', '.aaf', '.aec', '.aep', '.aepx', '.aet', '.aetx', '.ajp', '.ale', '.am', '.amc', '.amv', '.amx', '.anim', '.aqt', '.arcut', '.arf', '.asf', '.asx', '.avb', '.avc', '.avd', '.avi', '.avp', '.avs', '.avs', '.avv', '.axm', '.bdm', '.bdmv', '.bdt2', '.bdt3', '.bik', '.bin', '.bix', '.bmk', '.bnp', '.box', '.bs4', '.bsf', '.bvr', '.byu', '.camproj', '.camrec', '.camv', '.ced', '.cel', '.cine', '.cip', '.clpi', '.cmmp', '.cmmtpl', '.cmproj', '.cmrec', '.cpi', '.cst', '.cvc', '.cx3', '.d2v', '.d3v', '.dat', '.dav', '.dce', '.dck', '.dcr', '.dcr', '.ddat', '.dif', '.dir', '.divx', '.dlx', '.dmb', '.dmsd', '.dmsd3d', '.dmsm', '.dmsm3d', '.dmss', '.dmx', '.dnc', '.dpa', '.dpg', '.dream', '.dsy', '.dv', '.dv-avi', '.dv4', '.dvdmedia', '.dvr', '.dvr-ms', '.dvx', '.dxr', '.dzm', '.dzp', '.dzt', '.edl', '.evo', '.eye', '.ezt', '.f4p', '.f4v', '.fbr', '.fbr', '.fbz', '.fcp', '.fcproject', '.ffd', '.flc', '.flh', '.fli', '.flv', '.flx', '.gfp', '.gl', '.gom', '.grasp', '.gts', '.gvi', '.gvp', '.h264', '.hdmov', '.hkm', '.ifo', '.imovieproj', '.imovieproject', '.ircp', '.irf', '.ism', '.ismc', '.ismv', '.iva', '.ivf', '.ivr', '.ivs', '.izz', '.izzy', '.jss', '.jts', '.jtv', '.k3g', '.kmv', '.ktn', '.lrec', '.lsf', '.lsx', '.m15', '.m1pg', '.m1v', '.m21', '.m21', '.m2a', '.m2p', '.m2t', '.m2ts', '.m2v', '.m4e', '.m4u', '.m4v', '.m75', '.mani', '.meta', '.mgv', '.mj2', '.mjp', '.mjpg', '.mk3d', '.mkv', '.mmv', '.mnv', '.mob', '.mod', '.modd', '.moff', '.moi', '.moov', '.mov', '.movie', '.mp21', '.mp21', '.mp2v', '.mp4', '.mp4v', '.mpe', '.mpeg', '.mpeg1', '.mpeg4', '.mpf', '.mpg', '.mpg2', '.mpgindex', '.mpl', '.mpl', '.mpls', '.mpsub', '.mpv', '.mpv2', '.mqv', '.msdvd', '.mse', '.msh', '.mswmm', '.mts', '.mtv', '.mvb', '.mvc', '.mvd', '.mve', '.mvex', '.mvp', '.mvp', '.mvy', '.mxf', '.mxv', '.mys', '.ncor', '.nsv', '.nut', '.nuv', '.nvc', '.ogm', '.ogv', '.ogx', '.osp', '.otrkey', '.pac', '.par', '.pds', '.pgi', '.photoshow', '.piv', '.pjs', '.playlist', '.plproj', '.pmf', '.pmv', '.pns', '.ppj', '.prel', '.pro', '.prproj', '.prtl', '.psb', '.psh', '.pssd', '.pva', '.pvr', '.pxv', '.qt', '.qtch', '.qtindex', '.qtl', '.qtm', '.qtz', '.r3d', '.rcd', '.rcproject', '.rdb', '.rec', '.rm', '.rmd', '.rmd', '.rmp', '.rms', '.rmv', '.rmvb', '.roq', '.rp', '.rsx', '.rts', '.rts', '.rum', '.rv', '.rvid', '.rvl', '.sbk', '.sbt', '.scc', '.scm', '.scm', '.scn', '.screenflow', '.sec', '.sedprj', '.seq', '.sfd', '.sfvidcap', '.siv', '.smi', '.smi', '.smil', '.smk', '.sml', '.smv', '.spl', '.sqz', '.srt', '.ssf', '.ssm', '.stl', '.str', '.stx', '.svi', '.swf', '.swi', '.swt', '.tda3mt', '.tdx', '.thp', '.tivo', '.tix', '.tod', '.tp', '.tp0', '.tpd', '.tpr', '.trp', '.ts', '.tsp', '.ttxt', '.tvs', '.usf', '.usm', '.vc1', '.vcpf', '.vcr', '.vcv', '.vdo', '.vdr', '.vdx', '.veg','.vem', '.vep', '.vf', '.vft', '.vfw', '.vfz', '.vgz', '.vid', '.video', '.viewlet', '.viv', '.vivo', '.vlab', '.vob', '.vp3', '.vp6', '.vp7', '.vpj', '.vro', '.vs4', '.vse', '.vsp', '.w32', '.wcp', '.webm', '.wlmp', '.wm', '.wmd', '.wmmp', '.wmv', '.wmx', '.wot', '.wp3', '.wpl', '.wtv', '.wve', '.wvx', '.xej', '.xel', '.xesc', '.xfl', '.xlmv', '.xmv', '.xvid', '.y4m', '.yog', '.yuv', '.zeg', '.zm1', '.zm2', '.zm3', '.zmv'  ) \n",
    "  if filename.endswith((video_file_extensions)):\n",
    "    return True\n",
    "  return False\n",
    "obj = os.scandir(my_dir)\n",
    "video_filenames = [entry.name for entry in obj if entry.is_file() and is_video_file(entry.name)]\n",
    "print(\"Video files in '% s':\" % my_dir)\n",
    "print(video_filenames)\n",
    "\n",
    "video_filenames.sort()\n",
    "# Prepare the job names and filepaths\n",
    "job_names = [s[:min(s.rfind(\".\"),25)] for s in video_filenames]\n",
    "source_filepaths = [os.path.join(my_dir, v) for v in video_filenames]"
   ]
  },
  {
   "cell_type": "markdown",
   "metadata": {
    "id": "a6ri4NnCtEiM"
   },
   "source": [
    "<h2 style=\"color:red\">Jobs creation and submission via ByteNite API</h2>"
   ]
  },
  {
   "cell_type": "code",
   "execution_count": 12,
   "metadata": {
    "colab": {
     "base_uri": "https://localhost:8080/",
     "height": 454
    },
    "id": "sKZI6XbDs2TH",
    "outputId": "30a9b2e2-7d61-4779-b21c-d1ad483bdba4"
   },
   "outputs": [
    {
     "name": "stdout",
     "output_type": "stream",
     "text": [
      "Job #0 (A001) created - ID: a371c3fe-1ebd-4799-bc62-7269294bc30c\n",
      "Uploading...\n",
      "Job started!\n",
      "-------------------------\n",
      "\n",
      "Job #1 (A002) created - ID: 37866e2e-c924-4541-8143-eb9be0c40c30\n",
      "Uploading...\n",
      "Job started!\n",
      "-------------------------\n",
      "\n",
      "Job #2 (A003) created - ID: c5f67687-3e53-4b50-9624-cb22101cbb14\n",
      "Uploading...\n",
      "Job started!\n",
      "-------------------------\n",
      "\n"
     ]
    }
   ],
   "source": [
    "# JOBS CREATION\n",
    "\n",
    "## Data source and data destination definition\n",
    "data_source_body={\n",
    "\"dataSource\": {\"dataSourceDescriptor\":\"file\", \"params\":{\"@type\":\"type.googleapis.com/bytenite.data_source.LocalFileDataSource\",\"name\":\"\",\"url\":\"\",\"password\":\"\",\"username\":\"\"}},\n",
    "\"dataDestination\": {\"dataSourceDescriptor\":\"bucket\", \"params\":{}}\n",
    "}\n",
    "\n",
    "# BATCH JOB CREATION\n",
    "n = min(len(source_filepaths), 100)\n",
    "job_ids = ['']*n\n",
    "job_data = ['']*n\n",
    "\n",
    "## For error log\n",
    "create_resp = ['']*n\n",
    "datasource_resp = ['']*n\n",
    "upload_resp = ['']*n\n",
    "params_resp = ['']*n\n",
    "run_resp = ['']*n\n",
    "temp_url = ['']*n\n",
    "\n",
    "for i in range(n):\n",
    "  \n",
    "    # CREATE JOB\n",
    "    create_job_body = {\"name\": job_names[i], \"templateId\": \"video-transcoding@v0.2\"}\n",
    "    create_resp[i] = requests.post('http://api.bytenite.com/v1/customer/jobs', json=create_job_body, headers={'Authorization': access_token}).json()\n",
    "    try:\n",
    "        job_data[i] = create_resp[i]['job']\n",
    "        job_ids[i] = job_data[i]['id']\n",
    "        print(f\"Job #{i} ({job_names[i]}) created - ID: {job_ids[i]}\")\n",
    "    except:\n",
    "        print(f\"CREATE ERROR: Job #{i} ({job_names[i]}):\")\n",
    "        print(create_resp[i])\n",
    "               \n",
    "    # SET SOURCE AND DESTINATION\n",
    "    datasource_resp[i] = requests.post(f'https://api.bytenite.com/v1/customer/jobs/datasource/{job_ids[i]}', json=data_source_body, headers={'Authorization': access_token}).json()\n",
    "    try:\n",
    "        job_data[i] = datasource_resp[i]['job']\n",
    "        temp_url[i] = job_data[i]['dataSource']['params']['tempUrl']\n",
    "    except:\n",
    "        print(f\"DATASOURCE ERROR: Job #{i} ({job_names[i]}):\")\n",
    "        print(datasource_resp[i])\n",
    "\n",
    "    # UPLOAD FILE\n",
    "    try:\n",
    "        print(\"Uploading...\")\n",
    "        with open(source_filepaths[i], mode='rb') as f:\n",
    "            files = {video_filenames[i]: f}\n",
    "            upload_resp[i] = requests.put(temp_url[i], data=f, headers={'Content-Disposition': f'attachment; filename=\"{source_filepaths[i]}\"'}) #requests.put(temp_url[i], files=files)\n",
    "            upload_resp[i].raise_for_status()\n",
    "            confirm_upload_resp = requests.post(f'http://api.bytenite.com/v1/customer/jobs/uploadcompleted/{job_ids[i]}', \n",
    "                                    json={}, \n",
    "                                    headers={'Authorization': access_token})\n",
    "            confirm_upload_resp.raise_for_status()\n",
    "    except:\n",
    "        print(f\"UPLOAD ERROR: Job #{i} ({job_names[i]}):\")\n",
    "        print(upload_resp[i])\n",
    "    \n",
    "    # SET PARAMETERS\n",
    "    params_resp[i] = requests.post(f'https://api.bytenite.com/v1/customer/jobs/params/{job_ids[i]}', json=job_params_body, headers={'Authorization': access_token}).json()\n",
    "    try:\n",
    "        job_data[i] = params_resp[i]['job']\n",
    "    except:\n",
    "        print(f\"PARAMETERS SETTING ERROR: Job #{i} ({job_names[i]}):\")\n",
    "        print(params_resp[i])\n",
    "        \n",
    "    time.sleep(0.5)\n",
    "    \n",
    "    # RUN JOB\n",
    "    run_resp[i] = requests.post(f'https://api.bytenite.com/v1/customer/jobs/run/{job_ids[i]}', json={}, headers={'Authorization': access_token}).json()\n",
    "    try:\n",
    "        job_started = run_resp[i]['ok']\n",
    "        print(\"Job started!\\n-------------------------\\n\")\n",
    "        \n",
    "    except:\n",
    "        print(f\"RUN JOB ERROR: Job #{i} ({job_names[i]}):\")\n",
    "        print(run_resp[i])\n",
    "        print(\"-------------------------\\n\")\n"
   ]
  },
  {
   "cell_type": "markdown",
   "metadata": {},
   "source": [
    "-------\n",
    "\n",
    "\n",
    "<h1 style=\"color:green\">Get the results (run after launching the jobs)</h1>"
   ]
  },
  {
   "cell_type": "code",
   "execution_count": 7,
   "metadata": {},
   "outputs": [
    {
     "name": "stdout",
     "output_type": "stream",
     "text": [
      "A001 - Outputs\n"
     ]
    },
    {
     "data": {
      "text/html": [
       "<b>Not ready</b> (wait and rerun cell)..."
      ],
      "text/plain": [
       "<IPython.core.display.HTML object>"
      ]
     },
     "metadata": {},
     "output_type": "display_data"
    },
    {
     "name": "stdout",
     "output_type": "stream",
     "text": [
      "\n",
      "----------------------------\n",
      "\n",
      "A002 - Outputs\n"
     ]
    },
    {
     "data": {
      "text/html": [
       "<b>Not ready</b> (wait and rerun cell)..."
      ],
      "text/plain": [
       "<IPython.core.display.HTML object>"
      ]
     },
     "metadata": {},
     "output_type": "display_data"
    },
    {
     "name": "stdout",
     "output_type": "stream",
     "text": [
      "\n",
      "----------------------------\n",
      "\n",
      "A003 - Outputs\n"
     ]
    },
    {
     "data": {
      "text/html": [
       "<b>Not ready</b> (wait and rerun cell)..."
      ],
      "text/plain": [
       "<IPython.core.display.HTML object>"
      ]
     },
     "metadata": {},
     "output_type": "display_data"
    },
    {
     "name": "stdout",
     "output_type": "stream",
     "text": [
      "\n",
      "----------------------------\n",
      "\n"
     ]
    }
   ],
   "source": [
    "import dateutil.parser\n",
    "from IPython.display import display, HTML\n",
    "\n",
    "results_resp = ['']*n\n",
    "results_data = ['']*n\n",
    "job_time = ['']*n\n",
    "\n",
    "\n",
    "for i in range(len(job_ids)):\n",
    "    results_resp[i] = requests.get(f'https://api.bytenite.com/v1/customer/jobs/{job_ids[i]}/results', headers={'Authorization': access_token}).json()\n",
    "    print(f\"{job_names[i]} - Outputs\")\n",
    "    try:\n",
    "        results_data[i] = results_resp[i]['results']\n",
    "        job_data[i] = requests.get(f'https://api.bytenite.com/v1/customer/jobs/{job_ids[i]}', json=job_params_body, headers={'Authorization': access_token}).json()['job']\n",
    "        job_time[i] = (dateutil.parser.isoparse(job_data[i]['completedAt']) - dateutil.parser.isoparse(job_data[i]['startedAt'])).total_seconds()\n",
    "        print(f\"Running time: {int(job_time[i])} seconds\")\n",
    "        for j in range(max(len(results_data[i]),1)):\n",
    "            display(HTML(f\"<a href='{results_data[i][j]['link']}' target='_blank'>Link {j+1}</a>\"))\n",
    "    except KeyError:\n",
    "        print(f\"ERROR: {results_resp[i]}\")\n",
    "    except (IndexError, TypeError):\n",
    "        display(HTML(f\"<b>Not ready</b> (wait and rerun cell)...\"))\n",
    "    print(\"\\n----------------------------\\n\")"
   ]
  },
  {
   "cell_type": "markdown",
   "metadata": {},
   "source": [
    "## Troubleshooting"
   ]
  },
  {
   "cell_type": "markdown",
   "metadata": {},
   "source": [
    "For more info, visit https://github.com/ByteNite2/bytenite-api-docs or contact us at support@bytenite.com"
   ]
  }
 ],
 "metadata": {
  "colab": {
   "provenance": []
  },
  "kernelspec": {
   "display_name": "Python 3 (ipykernel)",
   "language": "python",
   "name": "python3"
  },
  "language_info": {
   "codemirror_mode": {
    "name": "ipython",
    "version": 3
   },
   "file_extension": ".py",
   "mimetype": "text/x-python",
   "name": "python",
   "nbconvert_exporter": "python",
   "pygments_lexer": "ipython3",
   "version": "3.9.13"
  }
 },
 "nbformat": 4,
 "nbformat_minor": 1
}
