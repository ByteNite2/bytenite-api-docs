{
 "cells": [
  {
   "cell_type": "markdown",
   "metadata": {
    "id": "riRA0b7VNVpl"
   },
   "source": [
    "# ByteNite Guide: Storj integration\n",
    "Storj I/O - storage configuration\n",
    "\n",
    "---\n",
    "In this notebook, you can set up Storj's storage feature for encoding jobs using the ByteNite Encoding API. You have the option to import your videos and store the output in a pre-existing Storj bucket.\n",
    "\n",
    "_Note: Have you signed up on Storj yet? If not, visit [storj.io/signup](storj.io/signup) to create an account and obtain your S3 Credentials, which include your access and secret key. These credentials will allow you to access the necessary buckets._\n",
    "\n",
    "_Note: This notebook shows how to acquire and store transcoded videos on your Storj DCS. The notebook can be customized to utilize either of the two options (e.g., using Storj for the output, while getting the input from GCS)._\n"
   ]
  },
  {
   "cell_type": "markdown",
   "metadata": {},
   "source": [
    "<h1 style=\"color:blue\">Setup (edit with your info)</h1>"
   ]
  },
  {
   "cell_type": "markdown",
   "metadata": {},
   "source": [
    "## Your ByteNite API Key ↓\n",
    "Get it at https://app.bytenite.com/profile"
   ]
  },
  {
   "cell_type": "code",
   "execution_count": 1,
   "metadata": {},
   "outputs": [],
   "source": [
    "# >> Paste here your API key (Go to app.bytenite.com/profile)\n",
    "access_token = 'BYTENITE_ACCESS_TOKEN'"
   ]
  },
  {
   "cell_type": "markdown",
   "metadata": {},
   "source": [
    "## Your Storj's S3 Credentials ↓\n",
    "Get them at https://us1.storj.io/access-grants/create-access-modal"
   ]
  },
  {
   "cell_type": "code",
   "execution_count": 2,
   "metadata": {},
   "outputs": [],
   "source": [
    "# >> Paste here your access key\n",
    "storj_S3_access = 'ACCESS_KEY'\n",
    "\n",
    "# >> Paste here you secret key\n",
    "storj_S3_secret = 'SECRET_KEY'"
   ]
  },
  {
   "cell_type": "markdown",
   "metadata": {},
   "source": [
    "## Your Storj input ↓\n"
   ]
  },
  {
   "cell_type": "code",
   "execution_count": 3,
   "metadata": {},
   "outputs": [],
   "source": [
    "# >> Please enter the name of the existing Storj bucket where your source video is stored\n",
    "storj_source_bucket = \"input-bytenite\"\n",
    "\n",
    "# >> Please enter the file path for your source video\n",
    "storj_source_path = \"/bbb.mp4\"\n",
    "\n",
    "# >> Please specify your source cloud region\n",
    "storj_source_region = \"us1\""
   ]
  },
  {
   "cell_type": "markdown",
   "metadata": {},
   "source": [
    "## Your Storj output ↓\n"
   ]
  },
  {
   "cell_type": "code",
   "execution_count": 1,
   "metadata": {},
   "outputs": [],
   "source": [
    "# >> Please enter the name of the existing Storj bucket where you would like your output video to be saved\n",
    "storj_dest_bucket = \"output-bytenite\"\n",
    "\n",
    "# >> Please provide the file path for the FOLDER where you would like to save your video.\n",
    "# In case the folder does not exist, it will be generated automatically.\n",
    "storj_dest_path = \"/\"\n",
    "\n",
    "# >> Please specify your destination cloud region\n",
    "storj_dest_region = \"us1\""
   ]
  },
  {
   "cell_type": "markdown",
   "metadata": {},
   "source": [
    "<h1 style=\"color:orange\">Additional setup (edit if you need different encoding options)</h1>\n",
    "The default encoding parameters for this notebook are:\n",
    "\n",
    "- HLS H.265 360p @365k\n",
    "- HLS H.265 720p @4.5M\n",
    "\n",
    "You can configure your parameters from the \"New Job\" wizard on app.bytenite.com, and then copy-paste the document by clicking on \"Switch to JSON\" on the top right.\n",
    "\n",
    "_Note: \"true\" / \"false\" values must be changed to Python's \"True\" / \"False\" (capital)_"
   ]
  },
  {
   "cell_type": "code",
   "execution_count": 14,
   "metadata": {},
   "outputs": [],
   "source": [
    "## Job parameters dictionary (JSON)\n",
    "job_params_body={\n",
    "    \"data\":{\"output_code_template\":\"\",\"output_template\":\"{{if .name}}{{.name}}{{else}}{{.job_name}}_{{.output_params.Aspect.Resolution.CustomHeight}}p@{{.output_params.Video.Bitrate.AvgBitrate}}{{end}}\",\n",
    "            \"outputs\":[\n",
    "                {\"name\":\"360p @365kbps\",\"output_params\":{\"aspect\":{\"cropping\":{\"bottom\":0,\"left\":0,\"right\":0,\"top\":0},\"orientation\":{\"flip\":\"\",\"rotation\":\"\"},\"padding\":{\"fill_color\":\"#000000\",\"final_aspect_ratio\":\"\"},\"resolution\":{\"aspect_ratio\":\"\",\"avoid_upscaling\":True,\"custom_height\":360,\"height\":\"custom\"}},\"audio\":{\"audio_bitrate\":\"160k\",\"audio_channel\":\"2.0\",\"audio_codec\":\"AAC\",\"audio_sample_rate\":\"48khz\"},\"video\":{\"bitrate\":{\"avg_bitrate\":\"365k\",\"buffer_size\":\"548k\",\"max_bitrate\":\"548k\",\"min_bitrate\":\"548k\",\"rate_control_mode\":\"variable_bitrate\"},\"codec_params\":{\"level\":\"\",\"preset\":\"medium\",\"profile\":\"high\",\"tune\":\"\"},\"frame_rate\":{\"fps\":\"30\",\"up_mode\":\"avoid\"},\"codec\":\"libx264\"}},\"output_type\":\"hls\"},\n",
    "                {\"name\":\"720p @4.5Mbps\",\"output_params\":{\"aspect\":{\"cropping\":{\"bottom\":0,\"left\":0,\"right\":0,\"top\":0},\"orientation\":{\"flip\":\"\",\"rotation\":\"\"},\"padding\":{\"fill_color\":\"#000000\",\"final_aspect_ratio\":\"\"},\"resolution\":{\"aspect_ratio\":\"\",\"avoid_upscaling\":True,\"custom_height\":720,\"height\":\"custom\"}},\"audio\":{\"audio_bitrate\":\"160k\",\"audio_channel\":\"2.0\",\"audio_codec\":\"AAC\",\"audio_sample_rate\":\"48khz\"},\"video\":{\"bitrate\":{\"avg_bitrate\":\"4500k\",\"buffer_size\":\"6750k\",\"max_bitrate\":\"6750k\",\"min_bitrate\":\"6750k\",\"rate_control_mode\":\"variable_bitrate\"},\"codec_params\":{\"level\":\"\",\"preset\":\"medium\",\"profile\":\"high\",\"tune\":\"\"},\"frame_rate\":{\"fps\":\"60\",\"up_mode\":\"avoid\"},\"codec\":\"libx264\"}},\"output_type\":\"hls\"}\n",
    "            ]}}"
   ]
  },
  {
   "cell_type": "markdown",
   "metadata": {},
   "source": [
    "\n",
    "\n",
    "-------\n",
    "\n",
    "\n",
    "\n",
    "<h1 style=\"color:red\">Execution (do not alter)</h1>"
   ]
  },
  {
   "cell_type": "code",
   "execution_count": 15,
   "metadata": {
    "id": "qb4aS4ILarK3"
   },
   "outputs": [],
   "source": [
    "# Imports\n",
    "import string\n",
    "import requests, os, time"
   ]
  },
  {
   "cell_type": "markdown",
   "metadata": {
    "id": "a6ri4NnCtEiM"
   },
   "source": [
    "<h2 style=\"color:red\">Job creation and submission via ByteNite API</h2>"
   ]
  },
  {
   "cell_type": "code",
   "execution_count": 16,
   "metadata": {
    "colab": {
     "base_uri": "https://localhost:8080/",
     "height": 454
    },
    "id": "sKZI6XbDs2TH",
    "outputId": "30a9b2e2-7d61-4779-b21c-d1ad483bdba4"
   },
   "outputs": [
    {
     "name": "stdout",
     "output_type": "stream",
     "text": [
      "Job \"storj-bbb\" created - ID: 21a56ebf-0eff-44f7-944d-677b3e80a47b\n",
      "Job started!\n"
     ]
    }
   ],
   "source": [
    "# JOBS CREATION\n",
    "\n",
    "## Data source and data destination definition\n",
    "data_source_body={\n",
    "    \"dataSource\": {\n",
    "        \"dataSourceDescriptor\":\"storj\",\n",
    "        \"params\":{\n",
    "          \"@type\": \"type.googleapis.com/bytenite.data_source.StorjDataSource\",\n",
    "          \"accessKey\": storj_S3_access,\n",
    "          \"secretKey\": storj_S3_secret,\n",
    "          \"cloudRegion\": storj_source_region,\n",
    "          \"bucketName\": storj_source_bucket,\n",
    "          \"name\": storj_source_path\n",
    "        }\n",
    "    },\n",
    "    \"dataDestination\": {\n",
    "        \"dataSourceDescriptor\":\"storj\",\n",
    "        \"params\":{\n",
    "          \"@type\": \"type.googleapis.com/bytenite.data_source.StorjDataSource\",\n",
    "          \"accessKey\": storj_S3_access,\n",
    "          \"secretKey\": storj_S3_secret,\n",
    "          \"cloudRegion\": storj_dest_region,\n",
    "          \"bucketName\": storj_dest_bucket,\n",
    "          \"name\": storj_dest_path\n",
    "        }\n",
    "    }\n",
    "}\n",
    "\n",
    "# Custom name\n",
    "job_name = storj_source_path.split('/')[-1]\n",
    "job_name = \"storj-\" + job_name[:job_name.find(\".\")]\n",
    "\n",
    "# CREATE JOB\n",
    "create_job_body = {\"name\": job_name, \"templateId\": \"video-transcoding@v0.2\"}\n",
    "create_resp = requests.post('http://api.bytenite.com/v1/customer/jobs', json=create_job_body, headers={'Authorization': access_token}).json()\n",
    "try:\n",
    "    job_data = create_resp['job']\n",
    "    job_id = job_data['id']\n",
    "    print(f\"Job \\\"{job_name}\\\" created - ID: {job_id}\")\n",
    "except:\n",
    "    print(f\"CREATE ERROR\")\n",
    "    print(create_resp)\n",
    "               \n",
    "# SET SOURCE AND DESTINATION\n",
    "datasource_resp = requests.post(f'https://api.bytenite.com/v1/customer/jobs/datasource/{job_id}', json=data_source_body, headers={'Authorization': access_token}).json()\n",
    "try:\n",
    "    job_data = datasource_resp['job']\n",
    "    temp_url = job_data['dataSource']['params']['tempUrl']\n",
    "except:\n",
    "    print(f\"DATASOURCE ERROR\")\n",
    "    print(datasource_resp)\n",
    "    \n",
    "# SET PARAMETERS\n",
    "params_resp = requests.post(f'https://api.bytenite.com/v1/customer/jobs/params/{job_id}', json=job_params_body, headers={'Authorization': access_token}).json()\n",
    "try:\n",
    "    job_data = params_resp['job']\n",
    "except:\n",
    "    print(f\"PARAMETERS SETTING ERROR\")\n",
    "    print(params_resp)\n",
    "        \n",
    "time.sleep(0.5)\n",
    "    \n",
    "# RUN JOB\n",
    "run_resp = requests.post(f'https://api.bytenite.com/v1/customer/jobs/run/{job_id}', json={}, headers={'Authorization': access_token}).json()\n",
    "try:\n",
    "    job_started = run_resp['ok']\n",
    "    print(\"Job started!\")\n",
    "except:\n",
    "    print(f\"RUN JOB ERROR\")\n",
    "    print(run_resp)\n"
   ]
  },
  {
   "cell_type": "markdown",
   "metadata": {},
   "source": [
    "-------\n",
    "\n",
    "\n",
    "<h1 style=\"color:green\">Get the results (run after launching the jobs)</h1>"
   ]
  },
  {
   "cell_type": "code",
   "execution_count": 19,
   "metadata": {},
   "outputs": [
    {
     "name": "stdout",
     "output_type": "stream",
     "text": [
      "storj-bbb - Outputs\n"
     ]
    },
    {
     "data": {
      "text/html": [
       "<b>Not ready</b> (wait and rerun cell)..."
      ],
      "text/plain": [
       "<IPython.core.display.HTML object>"
      ]
     },
     "metadata": {},
     "output_type": "display_data"
    }
   ],
   "source": [
    "import dateutil.parser\n",
    "from IPython.display import display, HTML\n",
    "\n",
    "results_resp = requests.get(f'https://api.bytenite.com/v1/customer/jobs/{job_id}/results', headers={'Authorization': access_token}).json()\n",
    "print(f\"{job_name} - Outputs\")\n",
    "try:\n",
    "    results_data = results_resp['results']\n",
    "    job_data = requests.get(f'https://api.bytenite.com/v1/customer/jobs/{job_id}', json=job_params_body, headers={'Authorization': access_token}).json()['job']\n",
    "    job_time = (dateutil.parser.isoparse(job_data['completedAt']) - dateutil.parser.isoparse(job_data['startedAt'])).total_seconds()\n",
    "    print(f\"Running time: {int(job_time)} seconds\")\n",
    "    for j in range(max(len(results_data),1)):\n",
    "        display(HTML(f\"<a href='{results_data[j]['link']}' target='_blank'>Output {j+1}: Storj authenticated link</a>\"))\n",
    "except KeyError:\n",
    "    print(f\"ERROR: {results_resp}\")\n",
    "except (IndexError, TypeError):\n",
    "    display(HTML(f\"<b>Not ready</b> (wait and rerun cell)...\"))"
   ]
  },
  {
   "cell_type": "markdown",
   "metadata": {},
   "source": [
    "## Troubleshooting"
   ]
  },
  {
   "cell_type": "markdown",
   "metadata": {},
   "source": [
    "For more info, visit https://github.com/ByteNite2/bytenite-api-docs or contact us at support@bytenite.com"
   ]
  }
 ],
 "metadata": {
  "colab": {
   "provenance": []
  },
  "kernelspec": {
   "display_name": "Python 3 (ipykernel)",
   "language": "python",
   "name": "python3"
  },
  "language_info": {
   "codemirror_mode": {
    "name": "ipython",
    "version": 3
   },
   "file_extension": ".py",
   "mimetype": "text/x-python",
   "name": "python",
   "nbconvert_exporter": "python",
   "pygments_lexer": "ipython3",
   "version": "3.9.13"
  }
 },
 "nbformat": 4,
 "nbformat_minor": 1
}
