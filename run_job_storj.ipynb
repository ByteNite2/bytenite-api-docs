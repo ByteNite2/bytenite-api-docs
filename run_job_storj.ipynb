{
 "cells": [
  {
   "cell_type": "code",
   "execution_count": 23,
   "metadata": {
    "ExecuteTime": {
     "end_time": "2023-05-15T16:49:24.373995749Z",
     "start_time": "2023-05-15T16:49:23.856423654Z"
    }
   },
   "outputs": [
    {
     "name": "stdout",
     "output_type": "stream",
     "text": [
      "{'id': '7eJ03LAvszYNRasmgBxMPqrEM6r1', 'createdAt': '2023-01-04T16:35:26.928Z', 'lastLogin': '2023-05-15T16:43:28.230Z', 'displayName': 'n.castelli', 'email': 'n.castelli@bytenite.com', 'phoneNumber': '', 'photoUrl': '', 'providerId': 'firebase', 'emailVerified': True, 'customClaims': {}}\n"
     ]
    }
   ],
   "source": [
    "import requests\n",
    "import os\n",
    "from configparser import ConfigParser\n",
    "\n",
    "#Open https://app.bytenite.com/profile in your browser and copy the access token in the variable below\n",
    "parser = ConfigParser()\n",
    "_ = parser.read('api.cfg')\n",
    "base_url = 'https://api.bytenite.com'\n",
    "storj_access_key=parser.get('api', 'storj_access_key')\n",
    "storj_secret_key=parser.get('api', 'storj_secret_key')\n",
    "# Get user info\n",
    "resp = requests.get(f'{base_url}/v1/auth/user', headers={'Authorization': parser.get('api', 'access_token')})\n",
    "resp.raise_for_status()\n",
    "user = resp.json()['user']\n",
    "print(user)"
   ]
  },
  {
   "cell_type": "code",
   "execution_count": 24,
   "metadata": {
    "ExecuteTime": {
     "end_time": "2023-05-15T16:49:25.664843032Z",
     "start_time": "2023-05-15T16:49:25.654998853Z"
    }
   },
   "outputs": [],
   "source": [
    "# Set a data source and a data destination\n",
    "data_source_body={\n",
    "    \"dataSource\": {\n",
    "        \"dataSourceDescriptor\":\"storj\",\n",
    "        \"params\":{\n",
    "          \"@type\": \"type.googleapis.com/bytenite.data_source.StorjDataSource\",\n",
    "          \"accessKey\": storj_access_key,\n",
    "          \"cloudRegion\": \"us1\",\n",
    "          \"secretKey\": storj_secret_key,\n",
    "          \"bucketName\": \"input-bytenite\",\n",
    "          \"name\": \"vqc/A086.mp4\",\n",
    "        }\n",
    "    },\n",
    "    \"dataDestination\": {\n",
    "        \"dataSourceDescriptor\":\"storj\",\n",
    "        \"params\":{\n",
    "          \"@type\": \"type.googleapis.com/bytenite.data_source.StorjDataSource\",\n",
    "          \"accessKey\": storj_access_key,\n",
    "          \"bucketName\": \"output-bytenite\",\n",
    "          \"cloudRegion\": \"us1\",\n",
    "          \"name\": \"Test api A086\",\n",
    "          \"secretKey\": storj_secret_key\n",
    "        }\n",
    "    }\n",
    "}\n"
   ]
  },
  {
   "cell_type": "code",
   "execution_count": 25,
   "metadata": {
    "ExecuteTime": {
     "end_time": "2023-05-15T16:49:27.734655048Z",
     "start_time": "2023-05-15T16:49:27.645717861Z"
    }
   },
   "outputs": [],
   "source": [
    "# Set video encoding parameters\n",
    "job_params_body={\n",
    "    \"data\": {\n",
    "      \"output_code_template\": \"\",\n",
    "      \"output_template\": \"{{.name}}\",\n",
    "      \"outputs\": [\n",
    "        {\n",
    "          \"output_params\": {\n",
    "            \"aspect\": {\n",
    "              \"cropping\": {\n",
    "                \"bottom\": 0,\n",
    "                \"left\": 0,\n",
    "                \"right\": 0,\n",
    "                \"top\": 0\n",
    "              },\n",
    "              \"orientation\": {\n",
    "                \"flip\": \"\",\n",
    "                \"rotation\": \"\"\n",
    "              },\n",
    "              \"padding\": {\n",
    "                \"fill_color\": \"#000000\",\n",
    "                \"final_aspect_ratio\": \"\"\n",
    "              },\n",
    "              \"resolution\": {\n",
    "                \"aspect_ratio\": \"\",\n",
    "                \"avoid_upscaling\": False,\n",
    "                \"height\": \"720p\"\n",
    "              }\n",
    "            },\n",
    "            \"audio\": {\n",
    "              \"audio_bitrate\": \"320k\",\n",
    "              \"audio_channel\": \"2.0\",\n",
    "              \"audio_codec\": \"AAC\",\n",
    "              \"audio_sample_rate\": \"48khz\"\n",
    "            },\n",
    "            \"video\": {\n",
    "              \"bitrate\": {\n",
    "                \"avg_bitrate\": \"3000k\",\n",
    "                \"buffer_size\": \"8000k\",\n",
    "                \"max_bitrate\": \"8000k\",\n",
    "                \"min_bitrate\": \"700k\",\n",
    "                \"rate_control_mode\": \"variable_bitrate\"\n",
    "              },\n",
    "              \"codec\": \"libx264\",\n",
    "              \"codec_params\": {\n",
    "                \"level\": \"\",\n",
    "                \"preset\": \"slow\",\n",
    "                \"profile\": \"\",\n",
    "                \"tune\": \"film\"\n",
    "              },\n",
    "              \"frame_rate\": {\n",
    "                \"fps\": \"\",\n",
    "                \"up_mode\": \"avoid\"\n",
    "              }\n",
    "            }\n",
    "          },\n",
    "          \"output_type\": \"mp4\",\n",
    "          \"name\": \"720p\"\n",
    "        },\n",
    "        {\n",
    "          \"output_params\": {\n",
    "            \"aspect\": {\n",
    "              \"cropping\": {\n",
    "                \"bottom\": 0,\n",
    "                \"left\": 0,\n",
    "                \"right\": 0,\n",
    "                \"top\": 0\n",
    "              },\n",
    "              \"orientation\": {\n",
    "                \"flip\": \"\",\n",
    "                \"rotation\": \"\"\n",
    "              },\n",
    "              \"padding\": {\n",
    "                \"fill_color\": \"#000000\",\n",
    "                \"final_aspect_ratio\": \"\"\n",
    "              },\n",
    "              \"resolution\": {\n",
    "                \"aspect_ratio\": \"\",\n",
    "                \"avoid_upscaling\": False,\n",
    "                \"height\": \"480p\"\n",
    "              }\n",
    "            },\n",
    "            \"audio\": {\n",
    "              \"audio_bitrate\": \"320k\",\n",
    "              \"audio_channel\": \"2.0\",\n",
    "              \"audio_codec\": \"AAC\",\n",
    "              \"audio_sample_rate\": \"48khz\"\n",
    "            },\n",
    "            \"video\": {\n",
    "              \"bitrate\": {\n",
    "                \"avg_bitrate\": \"800k\",\n",
    "                \"buffer_size\": \"2000k\",\n",
    "                \"max_bitrate\": \"2000k\",\n",
    "                \"min_bitrate\": \"400k\",\n",
    "                \"rate_control_mode\": \"variable_bitrate\"\n",
    "              },\n",
    "              \"codec\": \"libvpx-vp9\",\n",
    "              \"codec_params\": {\n",
    "                \"cpu_used\": 1\n",
    "              },\n",
    "              \"frame_rate\": {\n",
    "                \"fps\": \"\",\n",
    "                \"up_mode\": \"avoid\"\n",
    "              }\n",
    "            }\n",
    "          },\n",
    "          \"output_type\": \"mp4\",\n",
    "          \"name\": \"480p\"\n",
    "        }\n",
    "      ]\n",
    "    },\n",
    "    \"preset\": \"unpackaged\"\n",
    "}"
   ]
  },
  {
   "cell_type": "code",
   "execution_count": 30,
   "outputs": [
    {
     "name": "stdout",
     "output_type": "stream",
     "text": [
      "Example job\n"
     ]
    }
   ],
   "source": [
    "# Create job with data source and params\n",
    "create_job_body={\"name\": \"Example job\", \"templateId\": \"video-transcoding@v0.2\", \"params\": job_params_body, \"data_source\": data_source_body[\"dataSource\"], \"data_destination\": data_source_body[\"dataDestination\"]}\n",
    "\n",
    "job_data = requests.post(f'{base_url}/v1/customer/jobs', json=create_job_body, headers={'Authorization': parser.get('api', 'access_token')}).json()['job']\n",
    "job_id = job_data['id']\n",
    "print(job_data['name'])"
   ],
   "metadata": {
    "collapsed": false,
    "ExecuteTime": {
     "end_time": "2023-05-15T17:02:07.234033599Z",
     "start_time": "2023-05-15T17:02:06.768994414Z"
    }
   }
  },
  {
   "cell_type": "code",
   "execution_count": 27,
   "metadata": {
    "ExecuteTime": {
     "end_time": "2023-05-15T16:49:33.193161810Z",
     "start_time": "2023-05-15T16:49:31.170732806Z"
    }
   },
   "outputs": [
    {
     "name": "stdout",
     "output_type": "stream",
     "text": [
      "Cost estimation: 2 ByteChips = 0.01$\n"
     ]
    }
   ],
   "source": [
    "# Get time and cost estimation\n",
    "#\n",
    "resp = requests.get(f'{base_url}/v1/customer/jobs/estimation/{job_id}', headers={'Authorization': parser.get('api', 'access_token')})\n",
    "resp.raise_for_status()\n",
    "estimation_data = resp.json()\n",
    "total_estimation = estimation_data['estimation']['totalEstimation']\n",
    "print(f'Cost estimation: {total_estimation} ByteChips = {(int(total_estimation)/200):.02f}$')"
   ]
  },
  {
   "cell_type": "code",
   "execution_count": 28,
   "metadata": {
    "ExecuteTime": {
     "end_time": "2023-05-15T16:49:37.721045873Z",
     "start_time": "2023-05-15T16:49:35.722379523Z"
    }
   },
   "outputs": [
    {
     "name": "stdout",
     "output_type": "stream",
     "text": [
      "{'ok': True, 'requestId': '', 'message': '', 'error': None}\n",
      "Job e7e86b18-92de-49ae-beb1-32a17a351685 started\n"
     ]
    }
   ],
   "source": [
    "# Run the job\n",
    "run_resp = requests.post(f'{base_url}/v1/customer/jobs/run/{job_id}', json={}, headers={'Authorization': parser.get('api', 'access_token')}).json()\n",
    "print(run_resp)\n",
    "print(f'Job {job_id} started')"
   ]
  },
  {
   "cell_type": "code",
   "execution_count": null,
   "metadata": {
    "ExecuteTime": {
     "start_time": "2023-05-05T14:03:42.201320Z",
     "end_time": "2023-05-05T14:03:42.208901Z"
    }
   },
   "outputs": [],
   "source": []
  }
 ],
 "metadata": {
  "kernelspec": {
   "display_name": "Python 3 (ipykernel)",
   "language": "python",
   "name": "python3"
  },
  "language_info": {
   "codemirror_mode": {
    "name": "ipython",
    "version": 3
   },
   "file_extension": ".py",
   "mimetype": "text/x-python",
   "name": "python",
   "nbconvert_exporter": "python",
   "pygments_lexer": "ipython3",
   "version": "3.7.12"
  }
 },
 "nbformat": 4,
 "nbformat_minor": 1
}
