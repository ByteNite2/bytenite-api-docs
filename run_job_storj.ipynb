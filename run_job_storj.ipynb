{
 "cells": [
  {
   "cell_type": "code",
   "execution_count": 10,
   "metadata": {
    "ExecuteTime": {
     "end_time": "2023-05-15T16:43:28.028942145Z",
     "start_time": "2023-05-15T16:43:27.479168891Z"
    }
   },
   "outputs": [
    {
     "name": "stdout",
     "output_type": "stream",
     "text": [
      "{'id': '7eJ03LAvszYNRasmgBxMPqrEM6r1', 'createdAt': '2023-01-04T16:35:26.928Z', 'lastLogin': '2023-05-15T16:41:14.692Z', 'displayName': 'n.castelli', 'email': 'n.castelli@bytenite.com', 'phoneNumber': '', 'photoUrl': '', 'providerId': 'firebase', 'emailVerified': True, 'customClaims': {}}\n"
     ]
    }
   ],
   "source": [
    "import requests\n",
    "import os\n",
    "from configparser import ConfigParser\n",
    "\n",
    "#Open https://app.bytenite.com/profile in your browser and copy the access token in the variable below\n",
    "parser = ConfigParser()\n",
    "_ = parser.read('api.cfg')\n",
    "base_url = 'https://api.bytenite.com'\n",
    "\n",
    "# Get user info\n",
    "resp = requests.get(f'{base_url}/v1/auth/user', headers={'Authorization': parser.get('api', 'access_token')})\n",
    "resp.raise_for_status()\n",
    "user = resp.json()['user']\n",
    "print(user)"
   ]
  },
  {
   "cell_type": "code",
   "execution_count": 11,
   "metadata": {
    "ExecuteTime": {
     "end_time": "2023-05-15T16:43:30.039322779Z",
     "start_time": "2023-05-15T16:43:29.997806652Z"
    }
   },
   "outputs": [],
   "source": [
    "# Set a data source and a data destination\n",
    "data_source_body={\n",
    "    \"dataSource\": {\n",
    "        \"dataSourceDescriptor\":\"storj\",\n",
    "        \"params\":{\n",
    "          \"@type\": \"type.googleapis.com/bytenite.data_source.StorjDataSource\",\n",
    "          \"accessKey\": \"jwppz4kyzyorltdn54hmbmac4ibq\",\n",
    "          \"cloudRegion\": \"us1\",\n",
    "          \"secretKey\": \"j3db4k67bsygfd3b247i3a7iyw4fgjwulsphhewr6sibucymkkmgg\",\n",
    "          \"bucketName\": \"input-bytenite\",\n",
    "          \"name\": \"vqc/A086.mp4\",\n",
    "        }\n",
    "    },\n",
    "    \"dataDestination\": {\n",
    "        \"dataSourceDescriptor\":\"storj\",\n",
    "        \"params\":{\n",
    "          \"@type\": \"type.googleapis.com/bytenite.data_source.StorjDataSource\",\n",
    "          \"accessKey\": \"jwppz4kyzyorltdn54hmbmac4ibq\",\n",
    "          \"bucketName\": \"output-bytenite\",\n",
    "          \"cloudRegion\": \"us1\",\n",
    "          \"name\": \"Test api A086\",\n",
    "          \"secretKey\": \"j3db4k67bsygfd3b247i3a7iyw4fgjwulsphhewr6sibucymkkmgg\"\n",
    "        }\n",
    "    }\n",
    "}\n"
   ]
  },
  {
   "cell_type": "code",
   "execution_count": 12,
   "metadata": {
    "ExecuteTime": {
     "end_time": "2023-05-15T16:43:31.783653339Z",
     "start_time": "2023-05-15T16:43:31.774502929Z"
    }
   },
   "outputs": [],
   "source": [
    "# Set video encoding parameters\n",
    "job_params_body={\n",
    "    \"data\": {\n",
    "      \"output_code_template\": \"\",\n",
    "      \"output_template\": \"{{.name}}\",\n",
    "      \"outputs\": [\n",
    "        {\n",
    "          \"output_params\": {\n",
    "            \"aspect\": {\n",
    "              \"cropping\": {\n",
    "                \"bottom\": 0,\n",
    "                \"left\": 0,\n",
    "                \"right\": 0,\n",
    "                \"top\": 0\n",
    "              },\n",
    "              \"orientation\": {\n",
    "                \"flip\": \"\",\n",
    "                \"rotation\": \"\"\n",
    "              },\n",
    "              \"padding\": {\n",
    "                \"fill_color\": \"#000000\",\n",
    "                \"final_aspect_ratio\": \"\"\n",
    "              },\n",
    "              \"resolution\": {\n",
    "                \"aspect_ratio\": \"\",\n",
    "                \"avoid_upscaling\": False,\n",
    "                \"height\": \"720p\"\n",
    "              }\n",
    "            },\n",
    "            \"audio\": {\n",
    "              \"audio_bitrate\": \"320k\",\n",
    "              \"audio_channel\": \"2.0\",\n",
    "              \"audio_codec\": \"AAC\",\n",
    "              \"audio_sample_rate\": \"48khz\"\n",
    "            },\n",
    "            \"video\": {\n",
    "              \"bitrate\": {\n",
    "                \"avg_bitrate\": \"3000k\",\n",
    "                \"buffer_size\": \"8000k\",\n",
    "                \"max_bitrate\": \"8000k\",\n",
    "                \"min_bitrate\": \"700k\",\n",
    "                \"rate_control_mode\": \"variable_bitrate\"\n",
    "              },\n",
    "              \"codec\": \"libx264\",\n",
    "              \"codec_params\": {\n",
    "                \"level\": \"\",\n",
    "                \"preset\": \"slow\",\n",
    "                \"profile\": \"\",\n",
    "                \"tune\": \"film\"\n",
    "              },\n",
    "              \"frame_rate\": {\n",
    "                \"fps\": \"\",\n",
    "                \"up_mode\": \"avoid\"\n",
    "              }\n",
    "            }\n",
    "          },\n",
    "          \"output_type\": \"mp4\",\n",
    "          \"name\": \"720p\"\n",
    "        },\n",
    "        {\n",
    "          \"output_params\": {\n",
    "            \"aspect\": {\n",
    "              \"cropping\": {\n",
    "                \"bottom\": 0,\n",
    "                \"left\": 0,\n",
    "                \"right\": 0,\n",
    "                \"top\": 0\n",
    "              },\n",
    "              \"orientation\": {\n",
    "                \"flip\": \"\",\n",
    "                \"rotation\": \"\"\n",
    "              },\n",
    "              \"padding\": {\n",
    "                \"fill_color\": \"#000000\",\n",
    "                \"final_aspect_ratio\": \"\"\n",
    "              },\n",
    "              \"resolution\": {\n",
    "                \"aspect_ratio\": \"\",\n",
    "                \"avoid_upscaling\": False,\n",
    "                \"height\": \"480p\"\n",
    "              }\n",
    "            },\n",
    "            \"audio\": {\n",
    "              \"audio_bitrate\": \"320k\",\n",
    "              \"audio_channel\": \"2.0\",\n",
    "              \"audio_codec\": \"AAC\",\n",
    "              \"audio_sample_rate\": \"48khz\"\n",
    "            },\n",
    "            \"video\": {\n",
    "              \"bitrate\": {\n",
    "                \"avg_bitrate\": \"800k\",\n",
    "                \"buffer_size\": \"2000k\",\n",
    "                \"max_bitrate\": \"2000k\",\n",
    "                \"min_bitrate\": \"400k\",\n",
    "                \"rate_control_mode\": \"variable_bitrate\"\n",
    "              },\n",
    "              \"codec\": \"libvpx-vp9\",\n",
    "              \"codec_params\": {\n",
    "                \"cpu_used\": 1\n",
    "              },\n",
    "              \"frame_rate\": {\n",
    "                \"fps\": \"\",\n",
    "                \"up_mode\": \"avoid\"\n",
    "              }\n",
    "            }\n",
    "          },\n",
    "          \"output_type\": \"mp4\",\n",
    "          \"name\": \"480p\"\n",
    "        }\n",
    "      ]\n",
    "    },\n",
    "    \"preset\": \"unpackaged\"\n",
    "}"
   ]
  },
  {
   "cell_type": "code",
   "execution_count": 13,
   "outputs": [
    {
     "name": "stdout",
     "output_type": "stream",
     "text": [
      "{'id': 'ccf06fbe-428b-41c9-a4c1-c5e21cb571b0', 'templateId': 'video-transcoding@v0.2', 'name': 'Example job', 'config': {'minChunkSize': '0', 'maxChunkSize': '0', 'replicationFactor': 0, 'partitioningSettings': {}}, 'priority': 'EXECUTION_PRIORITY_UNDEFINED', 'startAt': None, 'deadline': None, 'submittedAt': None, 'startedAt': None, 'completedAt': None, 'regions': None, 'state': 'JOB_STATE_NEW', 'dataSource': {'dataSourceDescriptor': 'storj', 'params': {'@type': 'type.googleapis.com/bytenite.data_source.StorjDataSource', 'name': 'vqc/A086.mp4', 'accessKey': 'jwppz4kyzyorltdn54hmbmac4ibq', 'secretKey': 'j3db4k67bsygfd3b247i3a7iyw4fgjwulsphhewr6sibucymkkmgg', 'bucketName': 'input-bytenite', 'cloudRegion': 'us1', 'tempUrl': ''}}, 'params': {'schema': '', 'data': {'output_code_template': '', 'output_template': '{{.name}}', 'outputs': [{'name': '720p', 'output_params': {'aspect': {'cropping': {'bottom': 0, 'left': 0, 'right': 0, 'top': 0}, 'orientation': {'flip': '', 'rotation': ''}, 'padding': {'fill_color': '#000000', 'final_aspect_ratio': ''}, 'resolution': {'aspect_ratio': '', 'avoid_upscaling': False, 'height': '720p'}}, 'audio': {'audio_bitrate': '320k', 'audio_channel': '2.0', 'audio_codec': 'AAC', 'audio_sample_rate': '48khz'}, 'video': {'bitrate': {'avg_bitrate': '3000k', 'buffer_size': '8000k', 'max_bitrate': '8000k', 'min_bitrate': '700k', 'rate_control_mode': 'variable_bitrate'}, 'codec': 'libx264', 'codec_params': {'level': '', 'preset': 'slow', 'profile': '', 'tune': 'film'}, 'frame_rate': {'fps': '', 'up_mode': 'avoid'}}}, 'output_type': 'mp4'}, {'name': '480p', 'output_params': {'aspect': {'cropping': {'bottom': 0, 'left': 0, 'right': 0, 'top': 0}, 'orientation': {'flip': '', 'rotation': ''}, 'padding': {'fill_color': '#000000', 'final_aspect_ratio': ''}, 'resolution': {'aspect_ratio': '', 'avoid_upscaling': False, 'height': '480p'}}, 'audio': {'audio_bitrate': '320k', 'audio_channel': '2.0', 'audio_codec': 'AAC', 'audio_sample_rate': '48khz'}, 'video': {'bitrate': {'avg_bitrate': '800k', 'buffer_size': '2000k', 'max_bitrate': '2000k', 'min_bitrate': '400k', 'rate_control_mode': 'variable_bitrate'}, 'codec': 'libvpx-vp9', 'codec_params': {'cpu_used': 1}, 'frame_rate': {'fps': '', 'up_mode': 'avoid'}}}, 'output_type': 'mp4'}]}, 'preset': 'unpackaged', 'selectedOutputs': []}, 'dataDestination': {'dataSourceDescriptor': 'storj', 'params': {'@type': 'type.googleapis.com/bytenite.data_source.StorjDataSource', 'name': 'Test api A086', 'accessKey': 'jwppz4kyzyorltdn54hmbmac4ibq', 'secretKey': 'j3db4k67bsygfd3b247i3a7iyw4fgjwulsphhewr6sibucymkkmgg', 'bucketName': 'output-bytenite', 'cloudRegion': 'us1', 'tempUrl': ''}}, 'duration': None, 'deletedAt': None, 'createdAt': '2023-05-15T16:43:35.286378Z', 'paymentAmount': '0', 'numUnitsEstimation': '0', 'numChunks': '0'}\n"
     ]
    }
   ],
   "source": [
    "# Create job with data source and params\n",
    "create_job_body={\"name\": \"Example job\", \"templateId\": \"video-transcoding@v0.2\", \"params\": job_params_body, \"data_source\": data_source_body[\"dataSource\"], \"data_destination\": data_source_body[\"dataDestination\"]}\n",
    "\n",
    "job_data = requests.post(f'{base_url}/v1/customer/jobs', json=create_job_body, headers={'Authorization': parser.get('api', 'access_token')}).json()['job']\n",
    "job_id = job_data['id']\n",
    "print(job_data)"
   ],
   "metadata": {
    "collapsed": false,
    "ExecuteTime": {
     "end_time": "2023-05-15T16:43:35.433810727Z",
     "start_time": "2023-05-15T16:43:34.948120735Z"
    }
   }
  },
  {
   "cell_type": "code",
   "execution_count": 14,
   "metadata": {
    "ExecuteTime": {
     "end_time": "2023-05-15T16:43:40.285168808Z",
     "start_time": "2023-05-15T16:43:38.480503861Z"
    }
   },
   "outputs": [
    {
     "name": "stdout",
     "output_type": "stream",
     "text": [
      "Cost estimation: 2 ByteChips = 0.01$\n"
     ]
    }
   ],
   "source": [
    "# Get time and cost estimation\n",
    "#\n",
    "estimation_data = requests.get(f'{base_url}/v1/customer/jobs/estimation/{job_id}', headers={'Authorization': parser.get('api', 'access_token')}).json()\n",
    "total_estimation = estimation_data['estimation']['totalEstimation']\n",
    "print(f'Cost estimation: {total_estimation} ByteChips = {(int(total_estimation)/200):.02f}$')"
   ]
  },
  {
   "cell_type": "code",
   "execution_count": 15,
   "metadata": {
    "ExecuteTime": {
     "end_time": "2023-05-15T16:43:44.364934723Z",
     "start_time": "2023-05-15T16:43:42.204273292Z"
    }
   },
   "outputs": [
    {
     "name": "stdout",
     "output_type": "stream",
     "text": [
      "{'ok': True, 'requestId': '', 'message': '', 'error': None}\n",
      "Job ccf06fbe-428b-41c9-a4c1-c5e21cb571b0 started\n"
     ]
    }
   ],
   "source": [
    "# Run the job\n",
    "run_resp = requests.post(f'{base_url}/v1/customer/jobs/run/{job_id}', json={}, headers={'Authorization': parser.get('api', 'access_token')}).json()\n",
    "print(run_resp)\n",
    "print(f'Job {job_id} started')"
   ]
  },
  {
   "cell_type": "code",
   "execution_count": null,
   "metadata": {
    "ExecuteTime": {
     "start_time": "2023-05-05T14:03:42.201320Z",
     "end_time": "2023-05-05T14:03:42.208901Z"
    }
   },
   "outputs": [],
   "source": []
  }
 ],
 "metadata": {
  "kernelspec": {
   "display_name": "Python 3 (ipykernel)",
   "language": "python",
   "name": "python3"
  },
  "language_info": {
   "codemirror_mode": {
    "name": "ipython",
    "version": 3
   },
   "file_extension": ".py",
   "mimetype": "text/x-python",
   "name": "python",
   "nbconvert_exporter": "python",
   "pygments_lexer": "ipython3",
   "version": "3.7.12"
  }
 },
 "nbformat": 4,
 "nbformat_minor": 1
}
